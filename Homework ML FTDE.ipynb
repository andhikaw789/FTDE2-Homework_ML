{
 "cells": [
  {
   "cell_type": "code",
   "execution_count": 40,
   "id": "a197c6d1",
   "metadata": {},
   "outputs": [],
   "source": [
    "import pandas as pd\n",
    "import numpy as np\n",
    "import matplotlib.pyplot as plt\n",
    "import seaborn as sns\n",
    "import matplotlib\n",
    "import statsmodels.api as sm\n",
    "from statsmodels.formula.api import ols\n",
    "from scipy.stats import chi2_contingency\n",
    "from sklearn.model_selection import train_test_split\n",
    "from collections import Counter\n",
    "from sklearn.preprocessing import OneHotEncoder\n",
    "import pickle\n",
    "\n",
    "import warnings\n",
    "warnings.filterwarnings('ignore')"
   ]
  },
  {
   "cell_type": "code",
   "execution_count": 3,
   "id": "57678641",
   "metadata": {},
   "outputs": [],
   "source": [
    "from sklearn.metrics import accuracy_score\n",
    "from sklearn.metrics import confusion_matrix\n",
    "from sklearn.metrics import recall_score\n",
    "from sklearn.metrics import precision_score\n",
    "from sklearn.metrics import classification_report, accuracy_score\n",
    "from sklearn.model_selection import cross_val_score\n",
    "from sklearn.model_selection import KFold\n",
    "from sklearn.model_selection import cross_validate\n",
    "from sklearn.model_selection import GridSearchCV\n",
    "from sklearn.metrics import ConfusionMatrixDisplay\n",
    "\n",
    "from sklearn.ensemble import GradientBoostingClassifier"
   ]
  },
  {
   "cell_type": "code",
   "execution_count": null,
   "id": "6b225ec4",
   "metadata": {},
   "outputs": [],
   "source": []
  },
  {
   "cell_type": "code",
   "execution_count": null,
   "id": "c94fd037",
   "metadata": {},
   "outputs": [],
   "source": []
  },
  {
   "cell_type": "code",
   "execution_count": 4,
   "id": "91ccdebb",
   "metadata": {},
   "outputs": [],
   "source": [
    "df = pd.read_csv(\"Homework - Prediction Insurance.csv\")"
   ]
  },
  {
   "cell_type": "code",
   "execution_count": 5,
   "id": "c1c79a2b",
   "metadata": {},
   "outputs": [
    {
     "data": {
      "text/html": [
       "<div>\n",
       "<style scoped>\n",
       "    .dataframe tbody tr th:only-of-type {\n",
       "        vertical-align: middle;\n",
       "    }\n",
       "\n",
       "    .dataframe tbody tr th {\n",
       "        vertical-align: top;\n",
       "    }\n",
       "\n",
       "    .dataframe thead th {\n",
       "        text-align: right;\n",
       "    }\n",
       "</style>\n",
       "<table border=\"1\" class=\"dataframe\">\n",
       "  <thead>\n",
       "    <tr style=\"text-align: right;\">\n",
       "      <th></th>\n",
       "      <th>id</th>\n",
       "      <th>Gender</th>\n",
       "      <th>Age</th>\n",
       "      <th>Driving_License</th>\n",
       "      <th>Region_Code</th>\n",
       "      <th>Previously_Insured</th>\n",
       "      <th>Vehicle_Age</th>\n",
       "      <th>Vehicle_Damage</th>\n",
       "      <th>Annual_Premium</th>\n",
       "      <th>Policy_Sales_Channel</th>\n",
       "      <th>Vintage</th>\n",
       "      <th>Response</th>\n",
       "    </tr>\n",
       "  </thead>\n",
       "  <tbody>\n",
       "    <tr>\n",
       "      <th>0</th>\n",
       "      <td>1</td>\n",
       "      <td>Male</td>\n",
       "      <td>44</td>\n",
       "      <td>1</td>\n",
       "      <td>28</td>\n",
       "      <td>0</td>\n",
       "      <td>&gt; 2 Years</td>\n",
       "      <td>Yes</td>\n",
       "      <td>40454</td>\n",
       "      <td>26</td>\n",
       "      <td>217</td>\n",
       "      <td>1</td>\n",
       "    </tr>\n",
       "    <tr>\n",
       "      <th>1</th>\n",
       "      <td>2</td>\n",
       "      <td>Male</td>\n",
       "      <td>76</td>\n",
       "      <td>1</td>\n",
       "      <td>3</td>\n",
       "      <td>0</td>\n",
       "      <td>1-2 Year</td>\n",
       "      <td>No</td>\n",
       "      <td>33536</td>\n",
       "      <td>26</td>\n",
       "      <td>183</td>\n",
       "      <td>0</td>\n",
       "    </tr>\n",
       "    <tr>\n",
       "      <th>2</th>\n",
       "      <td>3</td>\n",
       "      <td>Male</td>\n",
       "      <td>47</td>\n",
       "      <td>1</td>\n",
       "      <td>28</td>\n",
       "      <td>0</td>\n",
       "      <td>&gt; 2 Years</td>\n",
       "      <td>Yes</td>\n",
       "      <td>38294</td>\n",
       "      <td>26</td>\n",
       "      <td>27</td>\n",
       "      <td>1</td>\n",
       "    </tr>\n",
       "    <tr>\n",
       "      <th>3</th>\n",
       "      <td>4</td>\n",
       "      <td>Male</td>\n",
       "      <td>21</td>\n",
       "      <td>1</td>\n",
       "      <td>11</td>\n",
       "      <td>1</td>\n",
       "      <td>&lt; 1 Year</td>\n",
       "      <td>No</td>\n",
       "      <td>28619</td>\n",
       "      <td>152</td>\n",
       "      <td>203</td>\n",
       "      <td>0</td>\n",
       "    </tr>\n",
       "    <tr>\n",
       "      <th>4</th>\n",
       "      <td>5</td>\n",
       "      <td>Female</td>\n",
       "      <td>29</td>\n",
       "      <td>1</td>\n",
       "      <td>41</td>\n",
       "      <td>1</td>\n",
       "      <td>&lt; 1 Year</td>\n",
       "      <td>No</td>\n",
       "      <td>27496</td>\n",
       "      <td>152</td>\n",
       "      <td>39</td>\n",
       "      <td>0</td>\n",
       "    </tr>\n",
       "  </tbody>\n",
       "</table>\n",
       "</div>"
      ],
      "text/plain": [
       "   id  Gender  Age  Driving_License  Region_Code  Previously_Insured  \\\n",
       "0   1    Male   44                1           28                   0   \n",
       "1   2    Male   76                1            3                   0   \n",
       "2   3    Male   47                1           28                   0   \n",
       "3   4    Male   21                1           11                   1   \n",
       "4   5  Female   29                1           41                   1   \n",
       "\n",
       "  Vehicle_Age Vehicle_Damage  Annual_Premium  Policy_Sales_Channel  Vintage  \\\n",
       "0   > 2 Years            Yes           40454                    26      217   \n",
       "1    1-2 Year             No           33536                    26      183   \n",
       "2   > 2 Years            Yes           38294                    26       27   \n",
       "3    < 1 Year             No           28619                   152      203   \n",
       "4    < 1 Year             No           27496                   152       39   \n",
       "\n",
       "   Response  \n",
       "0         1  \n",
       "1         0  \n",
       "2         1  \n",
       "3         0  \n",
       "4         0  "
      ]
     },
     "execution_count": 5,
     "metadata": {},
     "output_type": "execute_result"
    }
   ],
   "source": [
    "df.head()"
   ]
  },
  {
   "cell_type": "code",
   "execution_count": 6,
   "id": "183b10cd",
   "metadata": {},
   "outputs": [
    {
     "name": "stdout",
     "output_type": "stream",
     "text": [
      "<class 'pandas.core.frame.DataFrame'>\n",
      "RangeIndex: 381109 entries, 0 to 381108\n",
      "Data columns (total 12 columns):\n",
      " #   Column                Non-Null Count   Dtype \n",
      "---  ------                --------------   ----- \n",
      " 0   id                    381109 non-null  int64 \n",
      " 1   Gender                381109 non-null  object\n",
      " 2   Age                   381109 non-null  int64 \n",
      " 3   Driving_License       381109 non-null  int64 \n",
      " 4   Region_Code           381109 non-null  int64 \n",
      " 5   Previously_Insured    381109 non-null  int64 \n",
      " 6   Vehicle_Age           381109 non-null  object\n",
      " 7   Vehicle_Damage        381109 non-null  object\n",
      " 8   Annual_Premium        381109 non-null  int64 \n",
      " 9   Policy_Sales_Channel  381109 non-null  int64 \n",
      " 10  Vintage               381109 non-null  int64 \n",
      " 11  Response              381109 non-null  int64 \n",
      "dtypes: int64(9), object(3)\n",
      "memory usage: 34.9+ MB\n"
     ]
    }
   ],
   "source": [
    "df.info()"
   ]
  },
  {
   "cell_type": "code",
   "execution_count": 7,
   "id": "95ae1137",
   "metadata": {},
   "outputs": [
    {
     "data": {
      "text/html": [
       "<div>\n",
       "<style scoped>\n",
       "    .dataframe tbody tr th:only-of-type {\n",
       "        vertical-align: middle;\n",
       "    }\n",
       "\n",
       "    .dataframe tbody tr th {\n",
       "        vertical-align: top;\n",
       "    }\n",
       "\n",
       "    .dataframe thead th {\n",
       "        text-align: right;\n",
       "    }\n",
       "</style>\n",
       "<table border=\"1\" class=\"dataframe\">\n",
       "  <thead>\n",
       "    <tr style=\"text-align: right;\">\n",
       "      <th></th>\n",
       "      <th>Age</th>\n",
       "      <th>Driving_License</th>\n",
       "      <th>Previously_Insured</th>\n",
       "      <th>Annual_Premium</th>\n",
       "      <th>Policy_Sales_Channel</th>\n",
       "      <th>Vintage</th>\n",
       "    </tr>\n",
       "  </thead>\n",
       "  <tbody>\n",
       "    <tr>\n",
       "      <th>count</th>\n",
       "      <td>381109.000000</td>\n",
       "      <td>381109.000000</td>\n",
       "      <td>381109.000000</td>\n",
       "      <td>381109.000000</td>\n",
       "      <td>381109.000000</td>\n",
       "      <td>381109.000000</td>\n",
       "    </tr>\n",
       "    <tr>\n",
       "      <th>mean</th>\n",
       "      <td>38.822584</td>\n",
       "      <td>0.997869</td>\n",
       "      <td>0.458210</td>\n",
       "      <td>30564.389581</td>\n",
       "      <td>112.034295</td>\n",
       "      <td>154.347397</td>\n",
       "    </tr>\n",
       "    <tr>\n",
       "      <th>std</th>\n",
       "      <td>15.511611</td>\n",
       "      <td>0.046110</td>\n",
       "      <td>0.498251</td>\n",
       "      <td>17213.155057</td>\n",
       "      <td>54.203995</td>\n",
       "      <td>83.671304</td>\n",
       "    </tr>\n",
       "    <tr>\n",
       "      <th>min</th>\n",
       "      <td>20.000000</td>\n",
       "      <td>0.000000</td>\n",
       "      <td>0.000000</td>\n",
       "      <td>2630.000000</td>\n",
       "      <td>1.000000</td>\n",
       "      <td>10.000000</td>\n",
       "    </tr>\n",
       "    <tr>\n",
       "      <th>25%</th>\n",
       "      <td>25.000000</td>\n",
       "      <td>1.000000</td>\n",
       "      <td>0.000000</td>\n",
       "      <td>24405.000000</td>\n",
       "      <td>29.000000</td>\n",
       "      <td>82.000000</td>\n",
       "    </tr>\n",
       "    <tr>\n",
       "      <th>50%</th>\n",
       "      <td>36.000000</td>\n",
       "      <td>1.000000</td>\n",
       "      <td>0.000000</td>\n",
       "      <td>31669.000000</td>\n",
       "      <td>133.000000</td>\n",
       "      <td>154.000000</td>\n",
       "    </tr>\n",
       "    <tr>\n",
       "      <th>75%</th>\n",
       "      <td>49.000000</td>\n",
       "      <td>1.000000</td>\n",
       "      <td>1.000000</td>\n",
       "      <td>39400.000000</td>\n",
       "      <td>152.000000</td>\n",
       "      <td>227.000000</td>\n",
       "    </tr>\n",
       "    <tr>\n",
       "      <th>max</th>\n",
       "      <td>85.000000</td>\n",
       "      <td>1.000000</td>\n",
       "      <td>1.000000</td>\n",
       "      <td>540165.000000</td>\n",
       "      <td>163.000000</td>\n",
       "      <td>299.000000</td>\n",
       "    </tr>\n",
       "  </tbody>\n",
       "</table>\n",
       "</div>"
      ],
      "text/plain": [
       "                 Age  Driving_License  Previously_Insured  Annual_Premium  \\\n",
       "count  381109.000000    381109.000000       381109.000000   381109.000000   \n",
       "mean       38.822584         0.997869            0.458210    30564.389581   \n",
       "std        15.511611         0.046110            0.498251    17213.155057   \n",
       "min        20.000000         0.000000            0.000000     2630.000000   \n",
       "25%        25.000000         1.000000            0.000000    24405.000000   \n",
       "50%        36.000000         1.000000            0.000000    31669.000000   \n",
       "75%        49.000000         1.000000            1.000000    39400.000000   \n",
       "max        85.000000         1.000000            1.000000   540165.000000   \n",
       "\n",
       "       Policy_Sales_Channel        Vintage  \n",
       "count         381109.000000  381109.000000  \n",
       "mean             112.034295     154.347397  \n",
       "std               54.203995      83.671304  \n",
       "min                1.000000      10.000000  \n",
       "25%               29.000000      82.000000  \n",
       "50%              133.000000     154.000000  \n",
       "75%              152.000000     227.000000  \n",
       "max              163.000000     299.000000  "
      ]
     },
     "execution_count": 7,
     "metadata": {},
     "output_type": "execute_result"
    }
   ],
   "source": [
    "df[['Age', 'Driving_License', 'Previously_Insured', 'Annual_Premium', 'Policy_Sales_Channel', 'Vintage']].describe()"
   ]
  },
  {
   "cell_type": "code",
   "execution_count": 8,
   "id": "a5284265",
   "metadata": {},
   "outputs": [
    {
     "data": {
      "text/plain": [
       "array(['Male', 'Female'], dtype=object)"
      ]
     },
     "execution_count": 8,
     "metadata": {},
     "output_type": "execute_result"
    }
   ],
   "source": [
    "df['Gender'].unique()"
   ]
  },
  {
   "cell_type": "code",
   "execution_count": 9,
   "id": "09c7ce59",
   "metadata": {},
   "outputs": [
    {
     "data": {
      "text/plain": [
       "array(['> 2 Years', '1-2 Year', '< 1 Year'], dtype=object)"
      ]
     },
     "execution_count": 9,
     "metadata": {},
     "output_type": "execute_result"
    }
   ],
   "source": [
    "df['Vehicle_Age'].unique()"
   ]
  },
  {
   "cell_type": "code",
   "execution_count": 10,
   "id": "c9578920",
   "metadata": {},
   "outputs": [
    {
     "data": {
      "text/plain": [
       "array(['Yes', 'No'], dtype=object)"
      ]
     },
     "execution_count": 10,
     "metadata": {},
     "output_type": "execute_result"
    }
   ],
   "source": [
    "df['Vehicle_Damage'].unique()"
   ]
  },
  {
   "cell_type": "code",
   "execution_count": 11,
   "id": "8196587d",
   "metadata": {},
   "outputs": [
    {
     "data": {
      "text/plain": [
       "array([ 26, 152, 160, 124,  14,  13,  30, 156, 163, 157, 122,  19,  22,\n",
       "        15, 154,  16,  52, 155,  11, 151, 125,  25,  61,   1,  86,  31,\n",
       "       150,  23,  60,  21, 121,   3, 139,  12,  29,  55,   7,  47, 127,\n",
       "       153,  78, 158,  89,  32,   8,  10, 120,  65,   4,  42,  83, 136,\n",
       "        24,  18,  56,  48, 106,  54,  93, 116,  91,  45,   9, 145, 147,\n",
       "        44, 109,  37, 140, 107, 128, 131, 114, 118, 159, 119, 105, 135,\n",
       "        62, 138, 129,  88,  92, 111, 113,  73,  36,  28,  35,  59,  53,\n",
       "       148, 133, 108,  64,  39,  94, 132,  46,  81, 103,  90,  51,  27,\n",
       "       146,  63,  96,  40,  66, 100,  95, 123,  98,  75,  69, 130, 134,\n",
       "        49,  97,  38,  17, 110,  80,  71, 117,  58,  20,  76, 104,  87,\n",
       "        84, 137, 126,  68,  67, 101, 115,  57,  82,  79, 112,  99,  70,\n",
       "         2,  34,  33,  74, 102, 149,  43,   6,  50, 144, 143,  41],\n",
       "      dtype=int64)"
      ]
     },
     "execution_count": 11,
     "metadata": {},
     "output_type": "execute_result"
    }
   ],
   "source": [
    "df['Policy_Sales_Channel'].unique()"
   ]
  },
  {
   "cell_type": "code",
   "execution_count": 12,
   "id": "a1b571dc",
   "metadata": {},
   "outputs": [
    {
     "data": {
      "text/plain": [
       "array([28,  3, 11, 41, 33,  6, 35, 50, 15, 45,  8, 36, 30, 26, 16, 47, 48,\n",
       "       19, 39, 23, 37,  5, 17,  2,  7, 29, 46, 27, 25, 13, 18, 20, 49, 22,\n",
       "       44,  0,  9, 31, 12, 34, 21, 10, 14, 38, 24, 40, 43, 32,  4, 51, 42,\n",
       "        1, 52], dtype=int64)"
      ]
     },
     "execution_count": 12,
     "metadata": {},
     "output_type": "execute_result"
    }
   ],
   "source": [
    "df['Region_Code'].unique()"
   ]
  },
  {
   "cell_type": "code",
   "execution_count": 13,
   "id": "424e9e86",
   "metadata": {},
   "outputs": [
    {
     "data": {
      "text/plain": [
       "False    381109\n",
       "dtype: int64"
      ]
     },
     "execution_count": 13,
     "metadata": {},
     "output_type": "execute_result"
    }
   ],
   "source": [
    "df.duplicated().value_counts()"
   ]
  },
  {
   "cell_type": "code",
   "execution_count": null,
   "id": "b326034e",
   "metadata": {},
   "outputs": [],
   "source": []
  },
  {
   "cell_type": "code",
   "execution_count": null,
   "id": "a29fef23",
   "metadata": {},
   "outputs": [],
   "source": []
  },
  {
   "cell_type": "markdown",
   "id": "aee1f142",
   "metadata": {},
   "source": [
    "# Preprocess"
   ]
  },
  {
   "cell_type": "code",
   "execution_count": 68,
   "id": "ce7119bc",
   "metadata": {},
   "outputs": [],
   "source": [
    "df2 = df.copy()"
   ]
  },
  {
   "cell_type": "code",
   "execution_count": 69,
   "id": "6de3bab8",
   "metadata": {},
   "outputs": [
    {
     "data": {
      "text/plain": [
       "Index(['id', 'Gender', 'Age', 'Driving_License', 'Region_Code',\n",
       "       'Previously_Insured', 'Vehicle_Age', 'Vehicle_Damage', 'Annual_Premium',\n",
       "       'Policy_Sales_Channel', 'Vintage', 'Response'],\n",
       "      dtype='object')"
      ]
     },
     "execution_count": 69,
     "metadata": {},
     "output_type": "execute_result"
    }
   ],
   "source": [
    "df2.columns"
   ]
  },
  {
   "cell_type": "code",
   "execution_count": 70,
   "id": "95e9b95f",
   "metadata": {},
   "outputs": [],
   "source": [
    "cat = ['Gender', 'Vehicle_Age', 'Vehicle_Damage']"
   ]
  },
  {
   "cell_type": "code",
   "execution_count": 71,
   "id": "f1f3aa95",
   "metadata": {},
   "outputs": [],
   "source": [
    "oneHotEncoder = OneHotEncoder(handle_unknown='ignore', sparse=False)"
   ]
  },
  {
   "cell_type": "code",
   "execution_count": 72,
   "id": "618a9d5b",
   "metadata": {},
   "outputs": [],
   "source": [
    "encoded_data_fit = oneHotEncoder.fit(df2[['Gender', 'Vehicle_Age', 'Vehicle_Damage']])"
   ]
  },
  {
   "cell_type": "code",
   "execution_count": 73,
   "id": "06be0bd9",
   "metadata": {},
   "outputs": [],
   "source": [
    "filename = 'ohe_encoder.pkl'\n",
    "pickle.dump(encoded_data_fit, open(filename, 'wb'))"
   ]
  },
  {
   "cell_type": "code",
   "execution_count": 74,
   "id": "f8dbf410",
   "metadata": {},
   "outputs": [],
   "source": [
    "encoded_data = encoded_data_fit.transform(df2[['Gender', 'Vehicle_Age', 'Vehicle_Damage']])"
   ]
  },
  {
   "cell_type": "code",
   "execution_count": 75,
   "id": "78288edb",
   "metadata": {},
   "outputs": [],
   "source": [
    "encoded_columns = encoded_data_fit.get_feature_names_out(['Gender', 'Vehicle_Age', 'Vehicle_Damage'])"
   ]
  },
  {
   "cell_type": "code",
   "execution_count": 64,
   "id": "f20919b2",
   "metadata": {},
   "outputs": [],
   "source": [
    "df_encoded = pd.DataFrame(encoded_data, columns=encoded_columns)"
   ]
  },
  {
   "cell_type": "code",
   "execution_count": 65,
   "id": "6c1f5235",
   "metadata": {},
   "outputs": [],
   "source": [
    "df2[encoded_columns] = encoded_data"
   ]
  },
  {
   "cell_type": "code",
   "execution_count": 66,
   "id": "6469f7db",
   "metadata": {},
   "outputs": [],
   "source": [
    "df2 = df2.drop(['id', 'Gender', 'Vehicle_Age', 'Vehicle_Damage'], axis=1)"
   ]
  },
  {
   "cell_type": "markdown",
   "id": "12cca88e",
   "metadata": {},
   "source": [
    "# Feature Selection"
   ]
  },
  {
   "cell_type": "code",
   "execution_count": 37,
   "id": "9d742bc7",
   "metadata": {},
   "outputs": [],
   "source": [
    "def perform_anova(df, continuous_columns, label_column):\n",
    "    anova_results = {}\n",
    "    for column in continuous_columns:\n",
    "        model = ols(f'{column} ~ C({label_column})', data=df).fit()\n",
    "        anova_table = sm.stats.anova_lm(model, typ=2)\n",
    "        p_value = anova_table[\"PR(>F)\"][0]  # Extract p-value\n",
    "        anova_results[column] = p_value\n",
    "    return anova_results"
   ]
  },
  {
   "cell_type": "code",
   "execution_count": 44,
   "id": "e5b213fe",
   "metadata": {},
   "outputs": [
    {
     "name": "stdout",
     "output_type": "stream",
     "text": [
      "{'Age': 0.0, 'Annual_Premium': 3.72231514014103e-44, 'Vintage': 0.5167036522730712}\n"
     ]
    }
   ],
   "source": [
    "continuous_columns = ['Age', 'Annual_Premium', 'Vintage']\n",
    "label_column = 'Response'\n",
    "\n",
    "# Perform ANOVA and get p-values\n",
    "anova_p_values = perform_anova(df_2, continuous_columns, label_column)"
   ]
  },
  {
   "cell_type": "code",
   "execution_count": 45,
   "id": "30b37837",
   "metadata": {},
   "outputs": [
    {
     "data": {
      "text/plain": [
       "{'Age': 0.0,\n",
       " 'Annual_Premium': 3.72231514014103e-44,\n",
       " 'Vintage': 0.5167036522730712}"
      ]
     },
     "execution_count": 45,
     "metadata": {},
     "output_type": "execute_result"
    }
   ],
   "source": [
    "anova_p_values"
   ]
  },
  {
   "cell_type": "code",
   "execution_count": null,
   "id": "9af86fc0",
   "metadata": {},
   "outputs": [],
   "source": []
  },
  {
   "cell_type": "code",
   "execution_count": 61,
   "id": "d78693fb",
   "metadata": {},
   "outputs": [],
   "source": [
    "def chi_square_test(df, categorical_columns, label_column):\n",
    "    insignificant_columns = []\n",
    "    significant_columns = []\n",
    "    for column in categorical_columns:\n",
    "        contingency_table = pd.crosstab(df[column], df[label_column])  # Create contingency table\n",
    "        chi2, p, dof, expected = chi2_contingency(contingency_table)  # Perform chi-square test\n",
    "        if p > 0.05:  # Filter based on p-value\n",
    "            insignificant_columns.append(column)\n",
    "        else:\n",
    "            significant_columns.append(column)\n",
    "    return insignificant_columns, significant_columns"
   ]
  },
  {
   "cell_type": "code",
   "execution_count": 62,
   "id": "cf93cf42",
   "metadata": {},
   "outputs": [],
   "source": [
    "# Specify categorical columns and label column\n",
    "categorical_columns = ['Gender', 'Driving_License', 'Region_Code', 'Previously_Insured', 'Vehicle_Age', 'Vehicle_Damage', 'Policy_Sales_Channel']\n",
    "label_column = 'Response'\n",
    "\n",
    "# Perform the Chi-square test and get columns with p-value > 0.05\n",
    "not_sig, sig = chi_square_test(df, categorical_columns, label_column)"
   ]
  },
  {
   "cell_type": "code",
   "execution_count": 63,
   "id": "96456993",
   "metadata": {},
   "outputs": [
    {
     "data": {
      "text/plain": [
       "[]"
      ]
     },
     "execution_count": 63,
     "metadata": {},
     "output_type": "execute_result"
    }
   ],
   "source": [
    "not_sig"
   ]
  },
  {
   "cell_type": "code",
   "execution_count": 64,
   "id": "82612686",
   "metadata": {},
   "outputs": [
    {
     "data": {
      "text/plain": [
       "['Gender',\n",
       " 'Driving_License',\n",
       " 'Region_Code',\n",
       " 'Previously_Insured',\n",
       " 'Vehicle_Age',\n",
       " 'Vehicle_Damage',\n",
       " 'Policy_Sales_Channel']"
      ]
     },
     "execution_count": 64,
     "metadata": {},
     "output_type": "execute_result"
    }
   ],
   "source": [
    "sig"
   ]
  },
  {
   "cell_type": "code",
   "execution_count": 44,
   "id": "9ff9756f",
   "metadata": {},
   "outputs": [],
   "source": [
    "df2 = df2.drop([\"Vintage\"], axis=1)"
   ]
  },
  {
   "cell_type": "code",
   "execution_count": null,
   "id": "adbc3e77",
   "metadata": {},
   "outputs": [],
   "source": []
  },
  {
   "cell_type": "markdown",
   "id": "5236bdb3",
   "metadata": {},
   "source": [
    "# Split"
   ]
  },
  {
   "cell_type": "code",
   "execution_count": 45,
   "id": "7e0aace5",
   "metadata": {},
   "outputs": [],
   "source": [
    "data_x = df2.drop('Response', axis=1).copy()\n",
    "\n",
    "data_y = df2['Response'].copy()"
   ]
  },
  {
   "cell_type": "code",
   "execution_count": 46,
   "id": "444429bc",
   "metadata": {},
   "outputs": [],
   "source": [
    "x_train, x_test, y_train, y_test = train_test_split(data_x, data_y, test_size=0.3, random_state=5)"
   ]
  },
  {
   "cell_type": "code",
   "execution_count": 47,
   "id": "592f38d6",
   "metadata": {},
   "outputs": [
    {
     "data": {
      "text/plain": [
       "Counter({0: 233959, 1: 32817})"
      ]
     },
     "execution_count": 47,
     "metadata": {},
     "output_type": "execute_result"
    }
   ],
   "source": [
    "Counter(y_train)"
   ]
  },
  {
   "cell_type": "code",
   "execution_count": null,
   "id": "4185a246",
   "metadata": {},
   "outputs": [],
   "source": []
  },
  {
   "cell_type": "markdown",
   "id": "d55bb91a",
   "metadata": {},
   "source": [
    "# SMOTE"
   ]
  },
  {
   "cell_type": "code",
   "execution_count": 48,
   "id": "4e713558",
   "metadata": {},
   "outputs": [
    {
     "data": {
      "text/plain": [
       "Counter({0: 233959, 1: 152073})"
      ]
     },
     "execution_count": 48,
     "metadata": {},
     "output_type": "execute_result"
    }
   ],
   "source": [
    "from imblearn.over_sampling import SMOTE\n",
    "\n",
    "sm = SMOTE(sampling_strategy = 0.65, k_neighbors=5, random_state=5)\n",
    "x_resample, y_resample = sm.fit_resample(x_train, y_train)\n",
    "Counter(y_resample)"
   ]
  },
  {
   "cell_type": "code",
   "execution_count": null,
   "id": "26340fdd",
   "metadata": {},
   "outputs": [],
   "source": []
  },
  {
   "cell_type": "markdown",
   "id": "c958a24e",
   "metadata": {},
   "source": [
    "# Model"
   ]
  },
  {
   "cell_type": "code",
   "execution_count": 49,
   "id": "b31668e3",
   "metadata": {},
   "outputs": [
    {
     "name": "stdout",
     "output_type": "stream",
     "text": [
      "[[100194    246]\n",
      " [ 13653    240]]\n",
      "Akurasi dari Gradient Boost adalah: 87.84\n",
      "Recall dari Gradient Boost adalah: 1.7274886633556468\n",
      "Precision dari Gradient Boost adalah: 49.382716049382715\n",
      "\n"
     ]
    }
   ],
   "source": [
    "gb_clf = GradientBoostingClassifier(random_state=5, learning_rate= 0.3, max_depth= 3, n_estimators=200)\n",
    "\n",
    "gb_clf.fit(x_train, y_train)\n",
    "\n",
    "predictiongnb = gb_clf.predict(x_test)\n",
    "print(confusion_matrix(y_test, predictiongnb))\n",
    "print(\"Akurasi dari Gradient Boost adalah: %.2f\" % (accuracy_score(y_test, predictiongnb)*100) )\n",
    "print(\"Recall dari Gradient Boost adalah:\",recall_score(y_test, predictiongnb)*100)\n",
    "print(\"Precision dari Gradient Boost adalah:\",precision_score(y_test, predictiongnb)*100)\n",
    "print(\"\")"
   ]
  },
  {
   "cell_type": "code",
   "execution_count": 50,
   "id": "c9630a87",
   "metadata": {},
   "outputs": [
    {
     "name": "stdout",
     "output_type": "stream",
     "text": [
      "Training Accuracy: 0.8782011875131196\n",
      "Testing Accuracy: 0.8784340479126761\n",
      "              precision    recall  f1-score   support\n",
      "\n",
      "           0       0.88      1.00      0.94    100440\n",
      "           1       0.49      0.02      0.03     13893\n",
      "\n",
      "    accuracy                           0.88    114333\n",
      "   macro avg       0.69      0.51      0.48    114333\n",
      "weighted avg       0.83      0.88      0.83    114333\n",
      "\n"
     ]
    }
   ],
   "source": [
    "prediction_test = gb_clf.predict(x_test)\n",
    "prediction_train = gb_clf.predict(x_train)\n",
    "training_acc = accuracy_score(y_train, prediction_train)\n",
    "testing_acc = accuracy_score(y_test, prediction_test)\n",
    "\n",
    "print(\"Training Accuracy: {}\".format(training_acc))\n",
    "print(\"Testing Accuracy: {}\".format(testing_acc))\n",
    "print(classification_report(y_test, prediction_test))"
   ]
  },
  {
   "cell_type": "markdown",
   "id": "190d3a9c",
   "metadata": {},
   "source": [
    "## Use Resampled"
   ]
  },
  {
   "cell_type": "code",
   "execution_count": 51,
   "id": "02e18fb6",
   "metadata": {},
   "outputs": [
    {
     "name": "stdout",
     "output_type": "stream",
     "text": [
      "[[86963 13477]\n",
      " [ 7015  6878]]\n",
      "Akurasi dari Gradient Boost adalah: 82.08\n",
      "Recall dari Gradient Boost adalah: 49.50694594400058\n",
      "Precision dari Gradient Boost adalah: 33.790223532301646\n",
      "\n"
     ]
    }
   ],
   "source": [
    "gb_clf.fit(x_resample, y_resample)\n",
    "\n",
    "predictiongnb = gb_clf.predict(x_test)\n",
    "print(confusion_matrix(y_test, predictiongnb))\n",
    "print(\"Akurasi dari Gradient Boost adalah: %.2f\" % (accuracy_score(y_test, predictiongnb)*100) )\n",
    "print(\"Recall dari Gradient Boost adalah:\",recall_score(y_test, predictiongnb)*100)\n",
    "print(\"Precision dari Gradient Boost adalah:\",precision_score(y_test, predictiongnb)*100)\n",
    "print(\"\")"
   ]
  },
  {
   "cell_type": "code",
   "execution_count": 52,
   "id": "a3a5948a",
   "metadata": {},
   "outputs": [
    {
     "name": "stdout",
     "output_type": "stream",
     "text": [
      "Training Accuracy: 0.849082459485224\n",
      "Testing Accuracy: 0.82076915676139\n",
      "              precision    recall  f1-score   support\n",
      "\n",
      "           0       0.93      0.87      0.89    100440\n",
      "           1       0.34      0.50      0.40     13893\n",
      "\n",
      "    accuracy                           0.82    114333\n",
      "   macro avg       0.63      0.68      0.65    114333\n",
      "weighted avg       0.85      0.82      0.83    114333\n",
      "\n"
     ]
    }
   ],
   "source": [
    "prediction_test = gb_clf.predict(x_test)\n",
    "prediction_train = gb_clf.predict(x_resample)\n",
    "training_acc = accuracy_score(y_resample, prediction_train)\n",
    "testing_acc = accuracy_score(y_test, prediction_test)\n",
    "\n",
    "print(\"Training Accuracy: {}\".format(training_acc))\n",
    "print(\"Testing Accuracy: {}\".format(testing_acc))\n",
    "print(classification_report(y_test, prediction_test))"
   ]
  },
  {
   "cell_type": "code",
   "execution_count": 53,
   "id": "b65b6766",
   "metadata": {},
   "outputs": [],
   "source": [
    "model_gb = gb_clf.fit(x_resample, y_resample)"
   ]
  },
  {
   "cell_type": "markdown",
   "id": "4ef53362",
   "metadata": {},
   "source": [
    "# Dump Model"
   ]
  },
  {
   "cell_type": "code",
   "execution_count": 54,
   "id": "3b3e2b7e",
   "metadata": {},
   "outputs": [],
   "source": [
    "filename = 'model_class.pkl'\n",
    "pickle.dump(model_gb, open(filename, 'wb'))"
   ]
  },
  {
   "cell_type": "code",
   "execution_count": null,
   "id": "b5360bd6",
   "metadata": {},
   "outputs": [],
   "source": []
  },
  {
   "cell_type": "markdown",
   "id": "794d80ff",
   "metadata": {},
   "source": [
    "# Create Prediction Automation"
   ]
  },
  {
   "cell_type": "code",
   "execution_count": 102,
   "id": "75782417",
   "metadata": {},
   "outputs": [],
   "source": [
    "def to_predict(df):\n",
    "    df2 = df.copy()\n",
    "    onehotencoder = pickle.load(open('ohe_encoder.pkl', 'rb'))\n",
    "    encoded_data = onehotencoder.transform(df2[['Gender', 'Vehicle_Age', 'Vehicle_Damage']])\n",
    "    encoded_columns = onehotencoder.get_feature_names_out(['Gender', 'Vehicle_Age', 'Vehicle_Damage'])\n",
    "    df2[encoded_columns] = encoded_data\n",
    "    df2 = df2.drop(['id', 'Gender', 'Vehicle_Age', 'Vehicle_Damage', 'Vintage'], axis=1)\n",
    "    \n",
    "    model_class = pickle.load(open('model_class.pkl', 'rb'))\n",
    "    y_pred = model_class.predict(df2)\n",
    "    df['prediction'] = y_pred\n",
    "    return df"
   ]
  },
  {
   "cell_type": "markdown",
   "id": "0159600a",
   "metadata": {},
   "source": [
    "### Test Function Prediction"
   ]
  },
  {
   "cell_type": "code",
   "execution_count": 96,
   "id": "14ea9674",
   "metadata": {},
   "outputs": [],
   "source": [
    "df = pd.read_csv(\"Homework - Prediction Insurance.csv\")"
   ]
  },
  {
   "cell_type": "code",
   "execution_count": 97,
   "id": "7fddc819",
   "metadata": {},
   "outputs": [],
   "source": [
    "df = df.drop('Response', axis=1)"
   ]
  },
  {
   "cell_type": "code",
   "execution_count": 103,
   "id": "f557aa97",
   "metadata": {},
   "outputs": [
    {
     "data": {
      "text/html": [
       "<div>\n",
       "<style scoped>\n",
       "    .dataframe tbody tr th:only-of-type {\n",
       "        vertical-align: middle;\n",
       "    }\n",
       "\n",
       "    .dataframe tbody tr th {\n",
       "        vertical-align: top;\n",
       "    }\n",
       "\n",
       "    .dataframe thead th {\n",
       "        text-align: right;\n",
       "    }\n",
       "</style>\n",
       "<table border=\"1\" class=\"dataframe\">\n",
       "  <thead>\n",
       "    <tr style=\"text-align: right;\">\n",
       "      <th></th>\n",
       "      <th>id</th>\n",
       "      <th>Gender</th>\n",
       "      <th>Age</th>\n",
       "      <th>Driving_License</th>\n",
       "      <th>Region_Code</th>\n",
       "      <th>Previously_Insured</th>\n",
       "      <th>Vehicle_Age</th>\n",
       "      <th>Vehicle_Damage</th>\n",
       "      <th>Annual_Premium</th>\n",
       "      <th>Policy_Sales_Channel</th>\n",
       "      <th>Vintage</th>\n",
       "      <th>prediction</th>\n",
       "    </tr>\n",
       "  </thead>\n",
       "  <tbody>\n",
       "    <tr>\n",
       "      <th>0</th>\n",
       "      <td>1</td>\n",
       "      <td>Male</td>\n",
       "      <td>44</td>\n",
       "      <td>1</td>\n",
       "      <td>28</td>\n",
       "      <td>0</td>\n",
       "      <td>&gt; 2 Years</td>\n",
       "      <td>Yes</td>\n",
       "      <td>40454</td>\n",
       "      <td>26</td>\n",
       "      <td>217</td>\n",
       "      <td>1</td>\n",
       "    </tr>\n",
       "    <tr>\n",
       "      <th>1</th>\n",
       "      <td>2</td>\n",
       "      <td>Male</td>\n",
       "      <td>76</td>\n",
       "      <td>1</td>\n",
       "      <td>3</td>\n",
       "      <td>0</td>\n",
       "      <td>1-2 Year</td>\n",
       "      <td>No</td>\n",
       "      <td>33536</td>\n",
       "      <td>26</td>\n",
       "      <td>183</td>\n",
       "      <td>0</td>\n",
       "    </tr>\n",
       "    <tr>\n",
       "      <th>2</th>\n",
       "      <td>3</td>\n",
       "      <td>Male</td>\n",
       "      <td>47</td>\n",
       "      <td>1</td>\n",
       "      <td>28</td>\n",
       "      <td>0</td>\n",
       "      <td>&gt; 2 Years</td>\n",
       "      <td>Yes</td>\n",
       "      <td>38294</td>\n",
       "      <td>26</td>\n",
       "      <td>27</td>\n",
       "      <td>1</td>\n",
       "    </tr>\n",
       "    <tr>\n",
       "      <th>3</th>\n",
       "      <td>4</td>\n",
       "      <td>Male</td>\n",
       "      <td>21</td>\n",
       "      <td>1</td>\n",
       "      <td>11</td>\n",
       "      <td>1</td>\n",
       "      <td>&lt; 1 Year</td>\n",
       "      <td>No</td>\n",
       "      <td>28619</td>\n",
       "      <td>152</td>\n",
       "      <td>203</td>\n",
       "      <td>0</td>\n",
       "    </tr>\n",
       "    <tr>\n",
       "      <th>4</th>\n",
       "      <td>5</td>\n",
       "      <td>Female</td>\n",
       "      <td>29</td>\n",
       "      <td>1</td>\n",
       "      <td>41</td>\n",
       "      <td>1</td>\n",
       "      <td>&lt; 1 Year</td>\n",
       "      <td>No</td>\n",
       "      <td>27496</td>\n",
       "      <td>152</td>\n",
       "      <td>39</td>\n",
       "      <td>0</td>\n",
       "    </tr>\n",
       "    <tr>\n",
       "      <th>...</th>\n",
       "      <td>...</td>\n",
       "      <td>...</td>\n",
       "      <td>...</td>\n",
       "      <td>...</td>\n",
       "      <td>...</td>\n",
       "      <td>...</td>\n",
       "      <td>...</td>\n",
       "      <td>...</td>\n",
       "      <td>...</td>\n",
       "      <td>...</td>\n",
       "      <td>...</td>\n",
       "      <td>...</td>\n",
       "    </tr>\n",
       "    <tr>\n",
       "      <th>381104</th>\n",
       "      <td>381105</td>\n",
       "      <td>Male</td>\n",
       "      <td>74</td>\n",
       "      <td>1</td>\n",
       "      <td>26</td>\n",
       "      <td>1</td>\n",
       "      <td>1-2 Year</td>\n",
       "      <td>No</td>\n",
       "      <td>30170</td>\n",
       "      <td>26</td>\n",
       "      <td>88</td>\n",
       "      <td>0</td>\n",
       "    </tr>\n",
       "    <tr>\n",
       "      <th>381105</th>\n",
       "      <td>381106</td>\n",
       "      <td>Male</td>\n",
       "      <td>30</td>\n",
       "      <td>1</td>\n",
       "      <td>37</td>\n",
       "      <td>1</td>\n",
       "      <td>&lt; 1 Year</td>\n",
       "      <td>No</td>\n",
       "      <td>40016</td>\n",
       "      <td>152</td>\n",
       "      <td>131</td>\n",
       "      <td>0</td>\n",
       "    </tr>\n",
       "    <tr>\n",
       "      <th>381106</th>\n",
       "      <td>381107</td>\n",
       "      <td>Male</td>\n",
       "      <td>21</td>\n",
       "      <td>1</td>\n",
       "      <td>30</td>\n",
       "      <td>1</td>\n",
       "      <td>&lt; 1 Year</td>\n",
       "      <td>No</td>\n",
       "      <td>35118</td>\n",
       "      <td>160</td>\n",
       "      <td>161</td>\n",
       "      <td>0</td>\n",
       "    </tr>\n",
       "    <tr>\n",
       "      <th>381107</th>\n",
       "      <td>381108</td>\n",
       "      <td>Female</td>\n",
       "      <td>68</td>\n",
       "      <td>1</td>\n",
       "      <td>14</td>\n",
       "      <td>0</td>\n",
       "      <td>&gt; 2 Years</td>\n",
       "      <td>Yes</td>\n",
       "      <td>44617</td>\n",
       "      <td>124</td>\n",
       "      <td>74</td>\n",
       "      <td>0</td>\n",
       "    </tr>\n",
       "    <tr>\n",
       "      <th>381108</th>\n",
       "      <td>381109</td>\n",
       "      <td>Male</td>\n",
       "      <td>46</td>\n",
       "      <td>1</td>\n",
       "      <td>29</td>\n",
       "      <td>0</td>\n",
       "      <td>1-2 Year</td>\n",
       "      <td>No</td>\n",
       "      <td>41777</td>\n",
       "      <td>26</td>\n",
       "      <td>237</td>\n",
       "      <td>0</td>\n",
       "    </tr>\n",
       "  </tbody>\n",
       "</table>\n",
       "<p>381109 rows × 12 columns</p>\n",
       "</div>"
      ],
      "text/plain": [
       "            id  Gender  Age  Driving_License  Region_Code  Previously_Insured  \\\n",
       "0            1    Male   44                1           28                   0   \n",
       "1            2    Male   76                1            3                   0   \n",
       "2            3    Male   47                1           28                   0   \n",
       "3            4    Male   21                1           11                   1   \n",
       "4            5  Female   29                1           41                   1   \n",
       "...        ...     ...  ...              ...          ...                 ...   \n",
       "381104  381105    Male   74                1           26                   1   \n",
       "381105  381106    Male   30                1           37                   1   \n",
       "381106  381107    Male   21                1           30                   1   \n",
       "381107  381108  Female   68                1           14                   0   \n",
       "381108  381109    Male   46                1           29                   0   \n",
       "\n",
       "       Vehicle_Age Vehicle_Damage  Annual_Premium  Policy_Sales_Channel  \\\n",
       "0        > 2 Years            Yes           40454                    26   \n",
       "1         1-2 Year             No           33536                    26   \n",
       "2        > 2 Years            Yes           38294                    26   \n",
       "3         < 1 Year             No           28619                   152   \n",
       "4         < 1 Year             No           27496                   152   \n",
       "...            ...            ...             ...                   ...   \n",
       "381104    1-2 Year             No           30170                    26   \n",
       "381105    < 1 Year             No           40016                   152   \n",
       "381106    < 1 Year             No           35118                   160   \n",
       "381107   > 2 Years            Yes           44617                   124   \n",
       "381108    1-2 Year             No           41777                    26   \n",
       "\n",
       "        Vintage  prediction  \n",
       "0           217           1  \n",
       "1           183           0  \n",
       "2            27           1  \n",
       "3           203           0  \n",
       "4            39           0  \n",
       "...         ...         ...  \n",
       "381104       88           0  \n",
       "381105      131           0  \n",
       "381106      161           0  \n",
       "381107       74           0  \n",
       "381108      237           0  \n",
       "\n",
       "[381109 rows x 12 columns]"
      ]
     },
     "execution_count": 103,
     "metadata": {},
     "output_type": "execute_result"
    }
   ],
   "source": [
    "to_predict(df)"
   ]
  },
  {
   "cell_type": "code",
   "execution_count": null,
   "id": "e90483de",
   "metadata": {},
   "outputs": [],
   "source": []
  },
  {
   "cell_type": "code",
   "execution_count": null,
   "id": "29b9d5ff",
   "metadata": {},
   "outputs": [],
   "source": []
  },
  {
   "cell_type": "code",
   "execution_count": null,
   "id": "81294781",
   "metadata": {},
   "outputs": [],
   "source": []
  },
  {
   "cell_type": "code",
   "execution_count": null,
   "id": "5d58b2c8",
   "metadata": {},
   "outputs": [],
   "source": []
  }
 ],
 "metadata": {
  "kernelspec": {
   "display_name": "Python 3 (ipykernel)",
   "language": "python",
   "name": "python3"
  },
  "language_info": {
   "codemirror_mode": {
    "name": "ipython",
    "version": 3
   },
   "file_extension": ".py",
   "mimetype": "text/x-python",
   "name": "python",
   "nbconvert_exporter": "python",
   "pygments_lexer": "ipython3",
   "version": "3.9.12"
  }
 },
 "nbformat": 4,
 "nbformat_minor": 5
}
